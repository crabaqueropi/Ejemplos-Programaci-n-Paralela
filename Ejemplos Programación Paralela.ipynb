{
 "cells": [
  {
   "cell_type": "markdown",
   "metadata": {},
   "source": [
    "# Paralelismo"
   ]
  },
  {
   "cell_type": "markdown",
   "metadata": {},
   "source": [
    "### Cálculo de pi secuencial\n",
    "Serie de Leibniz"
   ]
  },
  {
   "cell_type": "code",
   "execution_count": 12,
   "metadata": {},
   "outputs": [
    {
     "name": "stdout",
     "output_type": "stream",
     "text": [
      "\n",
      "pi: 3.141592658505 \n",
      "Time elapsed: 20.292977\n"
     ]
    }
   ],
   "source": [
    "//%cflags: -lm -D_DEFAULT_SOURCE\n",
    "\n",
    "#include <stdio.h>\n",
    "#include <stdlib.h>\n",
    "#include <omp.h>\n",
    "#include <sys/time.h>\n",
    "\n",
    "#define ITERATIONS 2e09\n",
    "\n",
    "int calculatePi(double *piTotal){   \n",
    "    int i = 0;\n",
    "    do{\n",
    "        *piTotal = *piTotal + (double)(4.0 / ((i*2)+1));\n",
    "        i++;\n",
    "        *piTotal = *piTotal - (double)(4.0 / ((i*2)+1));\n",
    "        i++;\n",
    "    }while(i < ITERATIONS);\n",
    "    return 0;\n",
    "}\n",
    "\n",
    "\n",
    "int main()\n",
    "{\n",
    "    struct timeval tval_before, tval_after, tval_result;\n",
    "    gettimeofday(&tval_before, NULL);\n",
    "    \n",
    "    double pi;\n",
    "    pi = 0;\n",
    "    calculatePi(&pi);\n",
    "    printf(\"\\npi: %2.12f \\n\", pi);\n",
    "    \n",
    "    gettimeofday(&tval_after, NULL);\n",
    "    timersub(&tval_after, &tval_before, &tval_result);\n",
    "    printf(\"Time elapsed: %ld.%06ld\\n\", (long int)tval_result.tv_sec, (long int)tval_result.tv_usec);\n",
    "}"
   ]
  },
  {
   "cell_type": "markdown",
   "metadata": {},
   "source": [
    "### Cálculo de pi con hilos posix"
   ]
  },
  {
   "cell_type": "code",
   "execution_count": 15,
   "metadata": {},
   "outputs": [
    {
     "name": "stdout",
     "output_type": "stream",
     "text": [
      "\n",
      "pi: 3.141592658507 \n",
      "Time elapsed: 7.632426\n"
     ]
    }
   ],
   "source": [
    "//%cflags:-lpthread -lm -D_DEFAULT_SOURCE\n",
    "\n",
    "#include <stdio.h>\n",
    "#include <stdlib.h>\n",
    "#include <unistd.h>\n",
    "#include <pthread.h>\n",
    "#include <omp.h>\n",
    "#include <sys/time.h>\n",
    "\n",
    "#define ITERATIONS 2e09\n",
    "#define THREADS 8\n",
    "\n",
    "double piTotal[THREADS];\n",
    "\n",
    "void *calculatePi(void *arg)\n",
    "{\n",
    "  int initIteration, endIteration, threadId = *(int *)arg;\n",
    "\n",
    "  initIteration = (ITERATIONS/THREADS) * threadId;\n",
    "  endIteration = initIteration + ((ITERATIONS/THREADS) - 1);\n",
    "  piTotal[threadId] = 0.0;\n",
    "    do{\n",
    "        piTotal[threadId] = piTotal[threadId] + (double)(4.0 / ((initIteration*2)+1));\n",
    "        initIteration++;\n",
    "        piTotal[threadId] = piTotal[threadId] - (double)(4.0 / ((initIteration*2)+1));\n",
    "        initIteration++;\n",
    "    }while(initIteration < endIteration);\n",
    "\n",
    "    return 0;\n",
    "}\n",
    "\n",
    "int main()\n",
    "{\n",
    "    struct timeval tval_before, tval_after, tval_result;\n",
    "    gettimeofday(&tval_before, NULL);\n",
    "    \n",
    "    int threadId[THREADS], i, *retval;\n",
    "    pthread_t thread[THREADS];\n",
    "\n",
    "    for(i = 0; i < THREADS; i++){\n",
    "        threadId[i] = i;\n",
    "        pthread_create(&thread[i], NULL, (void *)calculatePi, &threadId[i]);\n",
    "    \n",
    "    }\n",
    "\n",
    "    for(i = 0; i < THREADS; i++){\n",
    "        pthread_join(thread[i], (void **)&retval);\n",
    "    }\n",
    "\n",
    "    for(i = 1; i < THREADS; i++){\n",
    "        piTotal[0] = piTotal[0] + piTotal[i];\n",
    "    }\n",
    "\n",
    "    printf(\"\\npi: %2.12f \\n\", piTotal[0]);\n",
    "    \n",
    "    gettimeofday(&tval_after, NULL);\n",
    "    timersub(&tval_after, &tval_before, &tval_result);\n",
    "    printf(\"Time elapsed: %ld.%06ld\\n\", (long int)tval_result.tv_sec, (long int)tval_result.tv_usec);\n",
    "}"
   ]
  },
  {
   "cell_type": "code",
   "execution_count": null,
   "metadata": {},
   "outputs": [],
   "source": []
  }
 ],
 "metadata": {
  "kernelspec": {
   "display_name": "C",
   "language": "c",
   "name": "c"
  },
  "language_info": {
   "file_extension": ".c",
   "mimetype": "text/plain",
   "name": "c"
  }
 },
 "nbformat": 4,
 "nbformat_minor": 2
}
